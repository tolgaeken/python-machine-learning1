{
 "cells": [
  {
   "cell_type": "markdown",
   "id": "13c33a83-e045-4147-8717-cee3eb887c07",
   "metadata": {},
   "source": [
    "# Ödev\n",
    "\n",
    "* Veri kümsinde gerekli/gereksiz bağımsız değişkenleri bulunuz\n",
    "* 5 farklı yönteme göre regresyon modellerini çıkaırnız\n",
    "    * MLR\n",
    "    * PR\n",
    "    * SVR\n",
    "    * DT\n",
    "    * RR\n",
    "* Yöntemlerin başarılarını karşılaştırınız\n",
    "* 10 yıl tecrübeli ve 00 puan almış bir CEO ve aynı özelliklere sahip bir Müdürün maaşlarını 5 yöntemle de tahmin edip sonuçları yorumlayınız"
   ]
  },
  {
   "cell_type": "code",
   "execution_count": 1,
   "id": "cc6cb87c-11bc-4521-8688-de9a900e178b",
   "metadata": {},
   "outputs": [],
   "source": [
    "import numpy as np\n",
    "import pandas as pd\n",
    "import matplotlib.pyplot as plt\n",
    "from sklearn import preprocessing\n",
    "from sklearn.linear_model import LinearRegression\n",
    "from sklearn.model_selection import train_test_split\n",
    "import statsmodels.api as sm\n",
    "from sklearn.preprocessing import PolynomialFeatures\n",
    "from sklearn.preprocessing import StandardScaler\n",
    "from sklearn.svm import SVR\n",
    "from sklearn.tree import DecisionTreeRegressor\n",
    "from sklearn.ensemble import RandomForestRegressor\n",
    "from sklearn.metrics import r2_score\n",
    "\n",
    "from warnings import filterwarnings\n",
    "filterwarnings('ignore')"
   ]
  },
  {
   "cell_type": "code",
   "execution_count": 17,
   "id": "cbfde0de-018f-4983-9ecc-c68a2225905f",
   "metadata": {},
   "outputs": [
    {
     "name": "stdout",
     "output_type": "stream",
     "text": [
      "               Calisan ID  UnvanSeviyesi     Kidem      Puan      maas\n",
      "Calisan ID       1.000000       0.331847  0.206278 -0.251278  0.226287\n",
      "UnvanSeviyesi    0.331847       1.000000 -0.125200  0.034948  0.727036\n",
      "Kidem            0.206278      -0.125200  1.000000  0.322796  0.117964\n",
      "Puan            -0.251278       0.034948  0.322796  1.000000  0.201474\n",
      "maas             0.226287       0.727036  0.117964  0.201474  1.000000\n"
     ]
    }
   ],
   "source": [
    "veriler = pd.read_csv(\"../Docs/maaslar_yeni.csv\")\n",
    "\n",
    "x = veriler.iloc[:,2:5]\n",
    "y = veriler.iloc[:,5:]\n",
    "X = x.values\n",
    "Y = y.values\n",
    "\n",
    "print(veriler.corr())"
   ]
  },
  {
   "cell_type": "code",
   "execution_count": 8,
   "id": "0772cb32-ea1e-45ca-a99b-d3760ebce41b",
   "metadata": {},
   "outputs": [
    {
     "name": "stdout",
     "output_type": "stream",
     "text": [
      "                                 OLS Regression Results                                \n",
      "=======================================================================================\n",
      "Dep. Variable:                      y   R-squared (uncentered):                   0.903\n",
      "Model:                            OLS   Adj. R-squared (uncentered):              0.892\n",
      "Method:                 Least Squares   F-statistic:                              83.89\n",
      "Date:                Sat, 05 Feb 2022   Prob (F-statistic):                    8.38e-14\n",
      "Time:                        15:08:23   Log-Likelihood:                         -295.74\n",
      "No. Observations:                  30   AIC:                                      597.5\n",
      "Df Residuals:                      27   BIC:                                      601.7\n",
      "Df Model:                           3                                                  \n",
      "Covariance Type:            nonrobust                                                  \n",
      "==============================================================================\n",
      "                 coef    std err          t      P>|t|      [0.025      0.975]\n",
      "------------------------------------------------------------------------------\n",
      "x1          2494.8107    256.145      9.740      0.000    1969.244    3020.377\n",
      "x2             1.3531    318.990      0.004      0.997    -653.161     655.867\n",
      "x3           -26.5687     33.657     -0.789      0.437     -95.626      42.489\n",
      "==============================================================================\n",
      "Omnibus:                        0.440   Durbin-Watson:                   1.617\n",
      "Prob(Omnibus):                  0.803   Jarque-Bera (JB):                0.573\n",
      "Skew:                           0.109   Prob(JB):                        0.751\n",
      "Kurtosis:                       2.359   Cond. No.                         23.7\n",
      "==============================================================================\n",
      "\n",
      "Notes:\n",
      "[1] R² is computed without centering (uncentered) since the model does not contain a constant.\n",
      "[2] Standard Errors assume that the covariance matrix of the errors is correctly specified.\n",
      "Linear R2 Değeri: 0.5857207050854021\n"
     ]
    }
   ],
   "source": [
    "# Lineer regresyon\n",
    "lin_reg = LinearRegression()\n",
    "lin_reg.fit(X,Y)\n",
    "model=sm.OLS(lin_reg.predict(X),X)\n",
    "print(model.fit().summary())\n",
    "print(f\"Linear R2 Değeri: {r2_score(Y, lin_reg.predict(X))}\")"
   ]
  },
  {
   "cell_type": "code",
   "execution_count": 9,
   "id": "079baab7-6c16-42fa-9aee-49f246bdec4b",
   "metadata": {},
   "outputs": [
    {
     "name": "stdout",
     "output_type": "stream",
     "text": [
      "[[1.0000000e+00 1.0000000e+00 5.0000000e+00 ... 1.2250000e+05\n",
      "  1.7150000e+06 2.4010000e+07]\n",
      " [1.0000000e+00 2.0000000e+00 5.0000000e+00 ... 1.2250000e+05\n",
      "  1.7150000e+06 2.4010000e+07]\n",
      " [1.0000000e+00 3.0000000e+00 5.0000000e+00 ... 1.2250000e+05\n",
      "  1.7150000e+06 2.4010000e+07]\n",
      " ...\n",
      " [1.0000000e+00 8.0000000e+00 1.0000000e+01 ... 1.4440000e+05\n",
      "  5.4872000e+05 2.0851360e+06]\n",
      " [1.0000000e+00 9.0000000e+00 1.0000000e+00 ... 2.5000000e+03\n",
      "  1.2500000e+05 6.2500000e+06]\n",
      " [1.0000000e+00 1.0000000e+01 9.0000000e+00 ... 5.5800900e+05\n",
      "  5.1460830e+06 4.7458321e+07]]\n"
     ]
    },
    {
     "data": {
      "text/plain": [
       "LinearRegression()"
      ]
     },
     "execution_count": 9,
     "metadata": {},
     "output_type": "execute_result"
    }
   ],
   "source": [
    "# Polinom Regresyon\n",
    "poly_reg = PolynomialFeatures(degree = 4)\n",
    "x_poly = poly_reg.fit_transform(X)\n",
    "print(x_poly)\n",
    "lin_reg2 = LinearRegression()\n",
    "lin_reg2.fit(x_poly,y)"
   ]
  },
  {
   "cell_type": "code",
   "execution_count": 10,
   "id": "0aa5ce2e-0e51-4136-ac0b-e21d69657480",
   "metadata": {},
   "outputs": [
    {
     "name": "stdout",
     "output_type": "stream",
     "text": [
      "poly OLS\n",
      "                                 OLS Regression Results                                \n",
      "=======================================================================================\n",
      "Dep. Variable:                      y   R-squared (uncentered):                   0.680\n",
      "Model:                            OLS   Adj. R-squared (uncentered):              0.644\n",
      "Method:                 Least Squares   F-statistic:                              19.11\n",
      "Date:                Sat, 05 Feb 2022   Prob (F-statistic):                    7.49e-07\n",
      "Time:                        15:08:24   Log-Likelihood:                         -317.93\n",
      "No. Observations:                  30   AIC:                                      641.9\n",
      "Df Residuals:                      27   BIC:                                      646.1\n",
      "Df Model:                           3                                                  \n",
      "Covariance Type:            nonrobust                                                  \n",
      "==============================================================================\n",
      "                 coef    std err          t      P>|t|      [0.025      0.975]\n",
      "------------------------------------------------------------------------------\n",
      "x1          2494.8107    536.645      4.649      0.000    1393.705    3595.916\n",
      "x2             1.3531    668.311      0.002      0.998   -1369.907    1372.614\n",
      "x3           -26.5687     70.513     -0.377      0.709    -171.250     118.113\n",
      "==============================================================================\n",
      "Omnibus:                       39.861   Durbin-Watson:                   1.171\n",
      "Prob(Omnibus):                  0.000   Jarque-Bera (JB):              121.882\n",
      "Skew:                           2.862   Prob(JB):                     3.42e-27\n",
      "Kurtosis:                      11.046   Cond. No.                         23.7\n",
      "==============================================================================\n",
      "\n",
      "Notes:\n",
      "[1] R² is computed without centering (uncentered) since the model does not contain a constant.\n",
      "[2] Standard Errors assume that the covariance matrix of the errors is correctly specified.\n",
      "Polynomial R2 Değeri: 0.9990003560225861\n"
     ]
    }
   ],
   "source": [
    "# Tahminler\n",
    "print('poly OLS')\n",
    "model2=sm.OLS(lin_reg2.predict(poly_reg.fit_transform(X)),X)\n",
    "print(model2.fit().summary())\n",
    "print(f\"Polynomial R2 Değeri: {r2_score(Y, lin_reg2.predict(poly_reg.fit_transform(X)))}\")"
   ]
  },
  {
   "cell_type": "code",
   "execution_count": 11,
   "id": "fd66e71b-4ad7-415b-ab34-3c4dc2c4703a",
   "metadata": {},
   "outputs": [
    {
     "name": "stdout",
     "output_type": "stream",
     "text": [
      "SVR OLS\n",
      "                                 OLS Regression Results                                \n",
      "=======================================================================================\n",
      "Dep. Variable:                      y   R-squared (uncentered):                   0.782\n",
      "Model:                            OLS   Adj. R-squared (uncentered):              0.758\n",
      "Method:                 Least Squares   F-statistic:                              32.37\n",
      "Date:                Sat, 05 Feb 2022   Prob (F-statistic):                    4.34e-09\n",
      "Time:                        15:08:25   Log-Likelihood:                        -0.92453\n",
      "No. Observations:                  30   AIC:                                      7.849\n",
      "Df Residuals:                      27   BIC:                                      12.05\n",
      "Df Model:                           3                                                  \n",
      "Covariance Type:            nonrobust                                                  \n",
      "==============================================================================\n",
      "                 coef    std err          t      P>|t|      [0.025      0.975]\n",
      "------------------------------------------------------------------------------\n",
      "x1             0.4715      0.049      9.709      0.000       0.372       0.571\n",
      "x2             0.0674      0.051      1.314      0.200      -0.038       0.173\n",
      "x3             0.0427      0.051      0.839      0.409      -0.062       0.147\n",
      "==============================================================================\n",
      "Omnibus:                        3.662   Durbin-Watson:                   0.494\n",
      "Prob(Omnibus):                  0.160   Jarque-Bera (JB):                2.279\n",
      "Skew:                           0.464   Prob(JB):                        0.320\n",
      "Kurtosis:                       2.019   Cond. No.                         1.44\n",
      "==============================================================================\n",
      "\n",
      "Notes:\n",
      "[1] R² is computed without centering (uncentered) since the model does not contain a constant.\n",
      "[2] Standard Errors assume that the covariance matrix of the errors is correctly specified.\n",
      "SVR R2 Değeri: 0.6287203839391851\n"
     ]
    }
   ],
   "source": [
    "# Verilerin Ölçeklenmesi\n",
    "sc1=StandardScaler()\n",
    "x_olcekli = sc1.fit_transform(X)\n",
    "sc2=StandardScaler()\n",
    "y_olcekli = np.ravel(sc2.fit_transform(Y.reshape(-1,1)))\n",
    "\n",
    "svr_reg = SVR(kernel='rbf')\n",
    "svr_reg.fit(x_olcekli,y_olcekli)\n",
    "\n",
    "print('SVR OLS')\n",
    "model3=sm.OLS(svr_reg.predict(x_olcekli),x_olcekli)\n",
    "print(model3.fit().summary())\n",
    "\n",
    "print(f\"SVR R2 Değeri: {r2_score(y_olcekli, svr_reg.predict(x_olcekli))}\")"
   ]
  },
  {
   "cell_type": "code",
   "execution_count": 12,
   "id": "afcef434-1680-45ff-9094-314804e418f1",
   "metadata": {},
   "outputs": [
    {
     "name": "stdout",
     "output_type": "stream",
     "text": [
      "Decision Tree OLS\n",
      "                                 OLS Regression Results                                \n",
      "=======================================================================================\n",
      "Dep. Variable:                      y   R-squared (uncentered):                   0.679\n",
      "Model:                            OLS   Adj. R-squared (uncentered):              0.644\n",
      "Method:                 Least Squares   F-statistic:                              19.08\n",
      "Date:                Sat, 05 Feb 2022   Prob (F-statistic):                    7.62e-07\n",
      "Time:                        15:08:26   Log-Likelihood:                         -317.95\n",
      "No. Observations:                  30   AIC:                                      641.9\n",
      "Df Residuals:                      27   BIC:                                      646.1\n",
      "Df Model:                           3                                                  \n",
      "Covariance Type:            nonrobust                                                  \n",
      "==============================================================================\n",
      "                 coef    std err          t      P>|t|      [0.025      0.975]\n",
      "------------------------------------------------------------------------------\n",
      "x1          2494.8107    537.146      4.645      0.000    1392.677    3596.944\n",
      "x2             1.3531    668.935      0.002      0.998   -1371.187    1373.894\n",
      "x3           -26.5687     70.579     -0.376      0.710    -171.385     118.248\n",
      "==============================================================================\n",
      "Omnibus:                       40.370   Durbin-Watson:                   1.194\n",
      "Prob(Omnibus):                  0.000   Jarque-Bera (JB):              125.722\n",
      "Skew:                           2.897   Prob(JB):                     5.01e-28\n",
      "Kurtosis:                      11.186   Cond. No.                         23.7\n",
      "==============================================================================\n",
      "\n",
      "Notes:\n",
      "[1] R² is computed without centering (uncentered) since the model does not contain a constant.\n",
      "[2] Standard Errors assume that the covariance matrix of the errors is correctly specified.\n",
      "Decision Tree R2 Değeri: 1.0\n"
     ]
    }
   ],
   "source": [
    "# Rarar Ağacı Regresyonu\n",
    "r_dt = DecisionTreeRegressor(random_state=0)\n",
    "r_dt.fit(X,Y)\n",
    "\n",
    "print('Decision Tree OLS')\n",
    "model4=sm.OLS(r_dt.predict(X),X)\n",
    "print(model4.fit().summary())\n",
    "\n",
    "print(f\"Decision Tree R2 Değeri: {r2_score(Y, r_dt.predict(X))}\")"
   ]
  },
  {
   "cell_type": "code",
   "execution_count": 16,
   "id": "0ea521dc-5036-4dad-b968-51bb8da811bd",
   "metadata": {},
   "outputs": [
    {
     "name": "stdout",
     "output_type": "stream",
     "text": [
      "Random Forest OLS\n",
      "                                 OLS Regression Results                                \n",
      "=======================================================================================\n",
      "Dep. Variable:                      y   R-squared (uncentered):                   0.713\n",
      "Model:                            OLS   Adj. R-squared (uncentered):              0.681\n",
      "Method:                 Least Squares   F-statistic:                              22.31\n",
      "Date:                Sat, 05 Feb 2022   Prob (F-statistic):                    1.79e-07\n",
      "Time:                        15:09:39   Log-Likelihood:                         -316.07\n",
      "No. Observations:                  30   AIC:                                      638.1\n",
      "Df Residuals:                      27   BIC:                                      642.3\n",
      "Df Model:                           3                                                  \n",
      "Covariance Type:            nonrobust                                                  \n",
      "==============================================================================\n",
      "                 coef    std err          t      P>|t|      [0.025      0.975]\n",
      "------------------------------------------------------------------------------\n",
      "x1          2671.9265    504.444      5.297      0.000    1636.892    3706.961\n",
      "x2             1.0522    628.209      0.002      0.999   -1287.927    1290.031\n",
      "x3           -44.2927     66.282     -0.668      0.510    -180.293      91.707\n",
      "==============================================================================\n",
      "Omnibus:                       32.588   Durbin-Watson:                   1.349\n",
      "Prob(Omnibus):                  0.000   Jarque-Bera (JB):               73.156\n",
      "Skew:                           2.425   Prob(JB):                     1.30e-16\n",
      "Kurtosis:                       8.916   Cond. No.                         23.7\n",
      "==============================================================================\n",
      "\n",
      "Notes:\n",
      "[1] R² is computed without centering (uncentered) since the model does not contain a constant.\n",
      "[2] Standard Errors assume that the covariance matrix of the errors is correctly specified.\n",
      "Random Forest R2 Değeri: 0.9475498704400864\n"
     ]
    }
   ],
   "source": [
    "# Random Forest Regresyonu\n",
    "rf_reg=RandomForestRegressor(n_estimators = 10,random_state=0)\n",
    "rf_reg.fit(X,Y.ravel())\n",
    "\n",
    "print('Random Forest OLS')\n",
    "model5=sm.OLS(rf_reg.predict(X),X)\n",
    "print(model5.fit().summary())\n",
    "\n",
    "print(f\"Random Forest R2 Değeri: {r2_score(Y, rf_reg.predict(X))}\")"
   ]
  },
  {
   "cell_type": "code",
   "execution_count": 15,
   "id": "51e19c61-1745-4937-b8e7-15d458ad7f6e",
   "metadata": {},
   "outputs": [
    {
     "name": "stdout",
     "output_type": "stream",
     "text": [
      "Linear R2 Değeri:\t 0.5857207050854021\n",
      "Polynomial R2 Değeri:\t 0.9990003560225861\n",
      "SVR R2 Değeri:\t\t 0.6287203839391851\n",
      "Decision Tree R2 Değeri: 1.0\n",
      "Random Forest R2 Değeri: 0.9475498704400864\n"
     ]
    }
   ],
   "source": [
    "# Özet R2 Değerleri\n",
    "print(f\"Linear R2 Değeri:\\t {r2_score(Y, lin_reg.predict(X))}\")\n",
    "\n",
    "print(f\"Polynomial R2 Değeri:\\t {r2_score(Y, lin_reg2.predict(poly_reg.fit_transform(X)))}\")\n",
    "\n",
    "print(f\"SVR R2 Değeri:\\t\\t {r2_score(y_olcekli, svr_reg.predict(x_olcekli))}\")\n",
    "\n",
    "print(f\"Decision Tree R2 Değeri: {r2_score(Y, r_dt.predict(X))}\")\n",
    "\n",
    "print(f\"Random Forest R2 Değeri: {r2_score(Y, rf_reg.predict(X))}\")"
   ]
  }
 ],
 "metadata": {
  "kernelspec": {
   "display_name": "Python 3 (ipykernel)",
   "language": "python",
   "name": "python3"
  },
  "language_info": {
   "codemirror_mode": {
    "name": "ipython",
    "version": 3
   },
   "file_extension": ".py",
   "mimetype": "text/x-python",
   "name": "python",
   "nbconvert_exporter": "python",
   "pygments_lexer": "ipython3",
   "version": "3.10.2"
  }
 },
 "nbformat": 4,
 "nbformat_minor": 5
}
