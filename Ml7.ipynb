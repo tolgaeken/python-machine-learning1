{
 "cells": [
  {
   "cell_type": "markdown",
   "id": "356ad90d-a6ac-4e0e-ab01-70560c65b07d",
   "metadata": {},
   "source": [
    "# Kümeleme (Clustering)\n",
    "\n",
    "**Temel Kullanım Alanları**\n",
    "* Müşteri Segmentasyonu\n",
    "    * Collaboration Filtering\n",
    "    * Özel Kampanyalar\n",
    "    * Tehdit ve Sahtekarlık Yakalama\n",
    "    * Eksik Verilerin Tamamlanması\n",
    "    * Verinin Alt Kümesi Üzerinde Yapılan Bütün İşlemler\n",
    "* Pazar Segmentasyonu\n",
    "    * Davranışsal Segmentasyon\n",
    "    * Demografik Segmentasyon\n",
    "    * Psikolojik Segmentasyon\n",
    "    * Coğrafi Segmentasyon\n",
    "    * Verinin Alt Kümesi Üzerinde Yapılan Bütün İşlemler\n",
    "* Sağlık ve Görüntü İşleme"
   ]
  },
  {
   "cell_type": "code",
   "execution_count": 12,
   "id": "32b9af0a-8460-4a1d-a99f-b2a775e03de9",
   "metadata": {},
   "outputs": [],
   "source": [
    "import pandas as pd\n",
    "import numpy as np\n",
    "import matplotlib.pyplot as plt\n",
    "from sklearn.cluster import KMeans\n",
    "from sklearn.cluster import AgglomerativeClustering\n",
    "import scipy.cluster.hierarchy as sch\n",
    "\n",
    "from warnings import filterwarnings\n",
    "filterwarnings(\"ignore\")"
   ]
  },
  {
   "cell_type": "markdown",
   "id": "74404797-961c-4046-ac3c-f12b188ee458",
   "metadata": {},
   "source": [
    "# K-Means (K-Ortalama)\n",
    "\n",
    "* Nasıl Çlaışır?\n",
    "    * Kaç küme olacağı kullanıcıdan parametre olarak seçilir\n",
    "    * Rastgele olarak k merkez noktası seçilir\n",
    "    * Her veri örneği en yakın merkez noktasına göre ilgili kümeye atanır\n",
    "    * Her küme için yeni merkez noktaları hesaplanarak merkez noktaları kaydırılır\n",
    "    * Yeni merkez noktalarına göre çalışır\n",
    "    \n",
    "<br>\n",
    "\n",
    "## K-Means Başlangıç Noktası Tuzağı\n",
    "\n",
    "**WCSS (within-cluster sums of squares)**\n",
    "\n",
    "${\\displaystyle WCSS = {\\sum_{P_i in Cluster 1}} distance(p_i, C_1)^2 + {\\sum_{P_i in Cluster 2}} distance(p_i, C_2)^2 + {\\sum_{P_i in Cluster 3}} distance(p_i, C_3)^2}$"
   ]
  },
  {
   "cell_type": "code",
   "execution_count": 8,
   "id": "1e078be9-2e7f-436d-bdda-2fe3b2f58616",
   "metadata": {},
   "outputs": [
    {
     "name": "stdout",
     "output_type": "stream",
     "text": [
      "[[ 58643.47826087   5844.92753623]\n",
      " [104386.95652174   7289.13043478]\n",
      " [ 22069.41176471   5320.88235294]]\n"
     ]
    },
    {
     "data": {
      "image/png": "[encoded data removed]",
      "text/plain": [
       "<Figure size 432x288 with 1 Axes>"
      ]
     },
     "metadata": {
      "needs_background": "light"
     },
     "output_type": "display_data"
    }
   ],
   "source": [
    "veriler = pd.read_csv(\"../Docs/musteriler.csv\")\n",
    "X = veriler.iloc[:,3:].values\n",
    "\n",
    "kmeans = KMeans ( n_clusters = 3, init = 'k-means++')\n",
    "kmeans.fit(X)\n",
    "\n",
    "print(kmeans.cluster_centers_)\n",
    "sonuclar = []\n",
    "for i in range(1,11):\n",
    "    kmeans = KMeans (n_clusters = i, init='k-means++', random_state= 123)\n",
    "    kmeans.fit(X)\n",
    "    sonuclar.append(kmeans.inertia_)\n",
    "\n",
    "plt.plot(range(1,11),sonuclar);"
   ]
  },
  {
   "cell_type": "code",
   "execution_count": 9,
   "id": "034614cd-9298-4ade-b307-4d6574c978be",
   "metadata": {
    "collapsed": true,
    "jupyter": {
     "outputs_hidden": true
    },
    "tags": []
   },
   "outputs": [
    {
     "data": {
      "text/plain": [
       "\u001b[1;31mType:\u001b[0m        KMeans\n",
       "\u001b[1;31mString form:\u001b[0m KMeans(n_clusters=10, random_state=123)\n",
       "\u001b[1;31mFile:\u001b[0m        c:\\users\\tolga\\appdata\\local\\programs\\python\\python310\\lib\\site-packages\\sklearn\\cluster\\_kmeans.py\n",
       "\u001b[1;31mDocstring:\u001b[0m  \n",
       "K-Means clustering.\n",
       "\n",
       "Read more in the :ref:`User Guide <k_means>`.\n",
       "\n",
       "Parameters\n",
       "----------\n",
       "\n",
       "n_clusters : int, default=8\n",
       "    The number of clusters to form as well as the number of\n",
       "    centroids to generate.\n",
       "\n",
       "init : {'k-means++', 'random'}, callable or array-like of shape             (n_clusters, n_features), default='k-means++'\n",
       "    Method for initialization:\n",
       "\n",
       "    'k-means++' : selects initial cluster centers for k-mean\n",
       "    clustering in a smart way to speed up convergence. See section\n",
       "    Notes in k_init for more details.\n",
       "\n",
       "    'random': choose `n_clusters` observations (rows) at random from data\n",
       "    for the initial centroids.\n",
       "\n",
       "    If an array is passed, it should be of shape (n_clusters, n_features)\n",
       "    and gives the initial centers.\n",
       "\n",
       "    If a callable is passed, it should take arguments X, n_clusters and a\n",
       "    random state and return an initialization.\n",
       "\n",
       "n_init : int, default=10\n",
       "    Number of time the k-means algorithm will be run with different\n",
       "    centroid seeds. The final results will be the best output of\n",
       "    n_init consecutive runs in terms of inertia.\n",
       "\n",
       "max_iter : int, default=300\n",
       "    Maximum number of iterations of the k-means algorithm for a\n",
       "    single run.\n",
       "\n",
       "tol : float, default=1e-4\n",
       "    Relative tolerance with regards to Frobenius norm of the difference\n",
       "    in the cluster centers of two consecutive iterations to declare\n",
       "    convergence.\n",
       "\n",
       "verbose : int, default=0\n",
       "    Verbosity mode.\n",
       "\n",
       "random_state : int, RandomState instance or None, default=None\n",
       "    Determines random number generation for centroid initialization. Use\n",
       "    an int to make the randomness deterministic.\n",
       "    See :term:`Glossary <random_state>`.\n",
       "\n",
       "copy_x : bool, default=True\n",
       "    When pre-computing distances it is more numerically accurate to center\n",
       "    the data first. If copy_x is True (default), then the original data is\n",
       "    not modified. If False, the original data is modified, and put back\n",
       "    before the function returns, but small numerical differences may be\n",
       "    introduced by subtracting and then adding the data mean. Note that if\n",
       "    the original data is not C-contiguous, a copy will be made even if\n",
       "    copy_x is False. If the original data is sparse, but not in CSR format,\n",
       "    a copy will be made even if copy_x is False.\n",
       "\n",
       "algorithm : {\"auto\", \"full\", \"elkan\"}, default=\"auto\"\n",
       "    K-means algorithm to use. The classical EM-style algorithm is \"full\".\n",
       "    The \"elkan\" variation is more efficient on data with well-defined\n",
       "    clusters, by using the triangle inequality. However it's more memory\n",
       "    intensive due to the allocation of an extra array of shape\n",
       "    (n_samples, n_clusters).\n",
       "\n",
       "    For now \"auto\" (kept for backward compatibility) chooses \"elkan\" but it\n",
       "    might change in the future for a better heuristic.\n",
       "\n",
       "    .. versionchanged:: 0.18\n",
       "        Added Elkan algorithm\n",
       "\n",
       "Attributes\n",
       "----------\n",
       "cluster_centers_ : ndarray of shape (n_clusters, n_features)\n",
       "    Coordinates of cluster centers. If the algorithm stops before fully\n",
       "    converging (see ``tol`` and ``max_iter``), these will not be\n",
       "    consistent with ``labels_``.\n",
       "\n",
       "labels_ : ndarray of shape (n_samples,)\n",
       "    Labels of each point\n",
       "\n",
       "inertia_ : float\n",
       "    Sum of squared distances of samples to their closest cluster center,\n",
       "    weighted by the sample weights if provided.\n",
       "\n",
       "n_iter_ : int\n",
       "    Number of iterations run.\n",
       "\n",
       "n_features_in_ : int\n",
       "    Number of features seen during :term:`fit`.\n",
       "\n",
       "    .. versionadded:: 0.24\n",
       "\n",
       "feature_names_in_ : ndarray of shape (`n_features_in_`,)\n",
       "    Names of features seen during :term:`fit`. Defined only when `X`\n",
       "    has feature names that are all strings.\n",
       "\n",
       "    .. versionadded:: 1.0\n",
       "\n",
       "See Also\n",
       "--------\n",
       "MiniBatchKMeans : Alternative online implementation that does incremental\n",
       "    updates of the centers positions using mini-batches.\n",
       "    For large scale learning (say n_samples > 10k) MiniBatchKMeans is\n",
       "    probably much faster than the default batch implementation.\n",
       "\n",
       "Notes\n",
       "-----\n",
       "The k-means problem is solved using either Lloyd's or Elkan's algorithm.\n",
       "\n",
       "The average complexity is given by O(k n T), where n is the number of\n",
       "samples and T is the number of iteration.\n",
       "\n",
       "The worst case complexity is given by O(n^(k+2/p)) with\n",
       "n = n_samples, p = n_features. (D. Arthur and S. Vassilvitskii,\n",
       "'How slow is the k-means method?' SoCG2006)\n",
       "\n",
       "In practice, the k-means algorithm is very fast (one of the fastest\n",
       "clustering algorithms available), but it falls in local minima. That's why\n",
       "it can be useful to restart it several times.\n",
       "\n",
       "If the algorithm stops before fully converging (because of ``tol`` or\n",
       "``max_iter``), ``labels_`` and ``cluster_centers_`` will not be consistent,\n",
       "i.e. the ``cluster_centers_`` will not be the means of the points in each\n",
       "cluster. Also, the estimator will reassign ``labels_`` after the last\n",
       "iteration to make ``labels_`` consistent with ``predict`` on the training\n",
       "set.\n",
       "\n",
       "Examples\n",
       "--------\n",
       "\n",
       ">>> from sklearn.cluster import KMeans\n",
       ">>> import numpy as np\n",
       ">>> X = np.array([[1, 2], [1, 4], [1, 0],\n",
       "...               [10, 2], [10, 4], [10, 0]])\n",
       ">>> kmeans = KMeans(n_clusters=2, random_state=0).fit(X)\n",
       ">>> kmeans.labels_\n",
       "array([1, 1, 1, 0, 0, 0], dtype=int32)\n",
       ">>> kmeans.predict([[0, 0], [12, 3]])\n",
       "array([1, 0], dtype=int32)\n",
       ">>> kmeans.cluster_centers_\n",
       "array([[10.,  2.],\n",
       "       [ 1.,  2.]])\n"
      ]
     },
     "metadata": {},
     "output_type": "display_data"
    }
   ],
   "source": [
    "?kmeans"
   ]
  },
  {
   "cell_type": "markdown",
   "id": "6d562ad3-0f98-48f1-91f0-da32af529586",
   "metadata": {},
   "source": [
    "# Hiyerarşik Kümeleme (Hierarchical Clustering)\n",
    "\n",
    "**Algoritma Adımları**\n",
    "* Her veri tek bir küme/bölüt ile başlar\n",
    "* En yakın ikişer komşuyu alıp ikişerli küme/bölüt oluşturulur\n",
    "* En yakın iki kümeyi alıp yeni bir bölüt oluşturur\n",
    "* Bir önceki adım, tek bir küme/bölüt olana kadar devam eder\n",
    "\n",
    "<br>\n",
    "\n",
    "**Mesafe Ölçümü**\n",
    "* Metrik Problemi\n",
    "    * Öklit Mesafesi\n",
    "* Referanslar\n",
    "    * En Yakın Noktalar\n",
    "    * En Uzak Noktalar\n",
    "    * Ortalama\n",
    "    * Merkezler Arası Mesafe"
   ]
  },
  {
   "cell_type": "code",
   "execution_count": 10,
   "id": "633b2fb9-648e-4e0e-a027-9871d32cf92d",
   "metadata": {},
   "outputs": [
    {
     "name": "stdout",
     "output_type": "stream",
     "text": [
      "[2 2 2 1 1 1 1 2 1 3 3 2 3 1 2 0 2 1 2 2 1 1 2 3 0 3 1 2 1 3 1 3 3 2 3 3 3\n",
      " 1 3 0 0 1 2 1 1 3 3 3 3 0 1 2 0 0 2 2 1 2 3 2 0 2 3 1 3 1 3 2 3 1 2 2 2 2\n",
      " 1 1 0 2 3 1 1 1 3 3 0 2 2 3 1 1 2 1 0 3 1 3 1 2 1 1 3 0 2 1 1 2 2 3 3 0 0\n",
      " 2 2 2 2 3 1 2 3 3 1 3 2 2 2 3 1 1 0 1 1 3 3 3 3 1 3 3 2 3 2 1 3 3 2 3 3 3\n",
      " 3 1 3 3 2 1 3 0 1 3 0 1 3 3 3 3 1 3 3 2 1 1 2 1 1 3 2 1 1 3 0 3 3 2 3 0 2\n",
      " 0 1 1 3 1 3 1 3 2 1 2 2 3 3 3]\n"
     ]
    },
    {
     "data": {
      "image/png": "[encoded data removed]",
      "text/plain": [
       "<Figure size 432x288 with 1 Axes>"
      ]
     },
     "metadata": {
      "needs_background": "light"
     },
     "output_type": "display_data"
    }
   ],
   "source": [
    "kmeans = KMeans (n_clusters = 4, init='k-means++', random_state= 123)\n",
    "Y_tahmin= kmeans.fit_predict(X)\n",
    "print(Y_tahmin)  \n",
    "plt.scatter(X[Y_tahmin==0,0],X[Y_tahmin==0,1],s=100, c='red')\n",
    "plt.scatter(X[Y_tahmin==1,0],X[Y_tahmin==1,1],s=100, c='blue')\n",
    "plt.scatter(X[Y_tahmin==2,0],X[Y_tahmin==2,1],s=100, c='green')\n",
    "plt.scatter(X[Y_tahmin==3,0],X[Y_tahmin==3,1],s=100, c='yellow')\n",
    "plt.title('KMeans')\n",
    "plt.show();"
   ]
  },
  {
   "cell_type": "code",
   "execution_count": 18,
   "id": "2a1fecaa-b769-4612-8152-16b13ad013a0",
   "metadata": {},
   "outputs": [
    {
     "name": "stdout",
     "output_type": "stream",
     "text": [
      "[0 0 0 2 2 2 2 0 2 1 1 0 1 2 0 3 0 2 0 0 2 2 0 1 3 1 2 0 2 1 2 1 1 0 1 1 1\n",
      " 2 1 3 0 2 0 2 2 1 1 1 1 3 2 0 3 3 0 0 2 0 1 0 3 0 1 2 1 2 1 0 1 2 0 0 0 0\n",
      " 2 2 3 0 1 2 2 2 1 1 3 0 0 1 2 2 0 2 3 1 2 1 2 0 2 2 1 3 0 2 2 0 0 1 1 3 3\n",
      " 0 0 0 0 1 2 0 1 1 2 1 0 0 0 1 2 2 3 2 2 1 1 1 1 2 1 1 0 1 0 2 1 1 0 1 1 1\n",
      " 1 2 1 1 0 2 1 3 2 1 3 2 1 1 2 1 2 1 1 0 2 2 0 2 2 1 1 2 2 1 3 1 1 0 1 3 0\n",
      " 3 2 2 1 2 1 2 1 0 2 0 0 1 1 1]\n"
     ]
    },
    {
     "data": {
      "image/png": "[encoded data removed]",
      "text/plain": [
       "<Figure size 432x288 with 1 Axes>"
      ]
     },
     "metadata": {
      "needs_background": "light"
     },
     "output_type": "display_data"
    },
    {
     "data": {
      "image/png": "[encoded data removed]",
      "text/plain": [
       "<Figure size 432x288 with 1 Axes>"
      ]
     },
     "metadata": {
      "needs_background": "light"
     },
     "output_type": "display_data"
    }
   ],
   "source": [
    "# Hiyerarşik Kümeleme\n",
    "\n",
    "ac = AgglomerativeClustering(n_clusters=4, affinity='euclidean', linkage='ward')\n",
    "Y_tahmin = ac.fit_predict(X)\n",
    "print(Y_tahmin)\n",
    "\n",
    "plt.scatter(X[Y_tahmin==0,0],X[Y_tahmin==0,1],s=100, c='red')\n",
    "plt.scatter(X[Y_tahmin==1,0],X[Y_tahmin==1,1],s=100, c='blue')\n",
    "plt.scatter(X[Y_tahmin==2,0],X[Y_tahmin==2,1],s=100, c='green')\n",
    "plt.scatter(X[Y_tahmin==3,0],X[Y_tahmin==3,1],s=100, c='yellow')\n",
    "plt.title('HC')\n",
    "plt.show();\n",
    "\n",
    "\n",
    "dendrogram = sch.dendrogram(sch.linkage(X, method='ward'))\n",
    "plt.show();"
   ]
  },
  {
   "cell_type": "code",
   "execution_count": 19,
   "id": "99c4d8f7-5852-4ac1-9086-b9e01b05ea26",
   "metadata": {
    "collapsed": true,
    "jupyter": {
     "outputs_hidden": true
    },
    "tags": []
   },
   "outputs": [
    {
     "data": {
      "text/plain": [
       "\u001b[1;31mType:\u001b[0m        AgglomerativeClustering\n",
       "\u001b[1;31mString form:\u001b[0m AgglomerativeClustering(n_clusters=4)\n",
       "\u001b[1;31mFile:\u001b[0m        c:\\users\\tolga\\appdata\\local\\programs\\python\\python310\\lib\\site-packages\\sklearn\\cluster\\_agglomerative.py\n",
       "\u001b[1;31mDocstring:\u001b[0m  \n",
       "Agglomerative Clustering.\n",
       "\n",
       "Recursively merges pair of clusters of sample data; uses linkage distance.\n",
       "\n",
       "Read more in the :ref:`User Guide <hierarchical_clustering>`.\n",
       "\n",
       "Parameters\n",
       "----------\n",
       "n_clusters : int or None, default=2\n",
       "    The number of clusters to find. It must be ``None`` if\n",
       "    ``distance_threshold`` is not ``None``.\n",
       "\n",
       "affinity : str or callable, default='euclidean'\n",
       "    Metric used to compute the linkage. Can be \"euclidean\", \"l1\", \"l2\",\n",
       "    \"manhattan\", \"cosine\", or \"precomputed\".\n",
       "    If linkage is \"ward\", only \"euclidean\" is accepted.\n",
       "    If \"precomputed\", a distance matrix (instead of a similarity matrix)\n",
       "    is needed as input for the fit method.\n",
       "\n",
       "memory : str or object with the joblib.Memory interface, default=None\n",
       "    Used to cache the output of the computation of the tree.\n",
       "    By default, no caching is done. If a string is given, it is the\n",
       "    path to the caching directory.\n",
       "\n",
       "connectivity : array-like or callable, default=None\n",
       "    Connectivity matrix. Defines for each sample the neighboring\n",
       "    samples following a given structure of the data.\n",
       "    This can be a connectivity matrix itself or a callable that transforms\n",
       "    the data into a connectivity matrix, such as derived from\n",
       "    `kneighbors_graph`. Default is ``None``, i.e, the\n",
       "    hierarchical clustering algorithm is unstructured.\n",
       "\n",
       "compute_full_tree : 'auto' or bool, default='auto'\n",
       "    Stop early the construction of the tree at ``n_clusters``. This is\n",
       "    useful to decrease computation time if the number of clusters is not\n",
       "    small compared to the number of samples. This option is useful only\n",
       "    when specifying a connectivity matrix. Note also that when varying the\n",
       "    number of clusters and using caching, it may be advantageous to compute\n",
       "    the full tree. It must be ``True`` if ``distance_threshold`` is not\n",
       "    ``None``. By default `compute_full_tree` is \"auto\", which is equivalent\n",
       "    to `True` when `distance_threshold` is not `None` or that `n_clusters`\n",
       "    is inferior to the maximum between 100 or `0.02 * n_samples`.\n",
       "    Otherwise, \"auto\" is equivalent to `False`.\n",
       "\n",
       "linkage : {'ward', 'complete', 'average', 'single'}, default='ward'\n",
       "    Which linkage criterion to use. The linkage criterion determines which\n",
       "    distance to use between sets of observation. The algorithm will merge\n",
       "    the pairs of cluster that minimize this criterion.\n",
       "\n",
       "    - 'ward' minimizes the variance of the clusters being merged.\n",
       "    - 'average' uses the average of the distances of each observation of\n",
       "      the two sets.\n",
       "    - 'complete' or 'maximum' linkage uses the maximum distances between\n",
       "      all observations of the two sets.\n",
       "    - 'single' uses the minimum of the distances between all observations\n",
       "      of the two sets.\n",
       "\n",
       "    .. versionadded:: 0.20\n",
       "        Added the 'single' option\n",
       "\n",
       "distance_threshold : float, default=None\n",
       "    The linkage distance threshold above which, clusters will not be\n",
       "    merged. If not ``None``, ``n_clusters`` must be ``None`` and\n",
       "    ``compute_full_tree`` must be ``True``.\n",
       "\n",
       "    .. versionadded:: 0.21\n",
       "\n",
       "compute_distances : bool, default=False\n",
       "    Computes distances between clusters even if `distance_threshold` is not\n",
       "    used. This can be used to make dendrogram visualization, but introduces\n",
       "    a computational and memory overhead.\n",
       "\n",
       "    .. versionadded:: 0.24\n",
       "\n",
       "Attributes\n",
       "----------\n",
       "n_clusters_ : int\n",
       "    The number of clusters found by the algorithm. If\n",
       "    ``distance_threshold=None``, it will be equal to the given\n",
       "    ``n_clusters``.\n",
       "\n",
       "labels_ : ndarray of shape (n_samples)\n",
       "    Cluster labels for each point.\n",
       "\n",
       "n_leaves_ : int\n",
       "    Number of leaves in the hierarchical tree.\n",
       "\n",
       "n_connected_components_ : int\n",
       "    The estimated number of connected components in the graph.\n",
       "\n",
       "    .. versionadded:: 0.21\n",
       "        ``n_connected_components_`` was added to replace ``n_components_``.\n",
       "\n",
       "n_features_in_ : int\n",
       "    Number of features seen during :term:`fit`.\n",
       "\n",
       "    .. versionadded:: 0.24\n",
       "\n",
       "feature_names_in_ : ndarray of shape (`n_features_in_`,)\n",
       "    Names of features seen during :term:`fit`. Defined only when `X`\n",
       "    has feature names that are all strings.\n",
       "\n",
       "    .. versionadded:: 1.0\n",
       "\n",
       "children_ : array-like of shape (n_samples-1, 2)\n",
       "    The children of each non-leaf node. Values less than `n_samples`\n",
       "    correspond to leaves of the tree which are the original samples.\n",
       "    A node `i` greater than or equal to `n_samples` is a non-leaf\n",
       "    node and has children `children_[i - n_samples]`. Alternatively\n",
       "    at the i-th iteration, children[i][0] and children[i][1]\n",
       "    are merged to form node `n_samples + i`.\n",
       "\n",
       "distances_ : array-like of shape (n_nodes-1,)\n",
       "    Distances between nodes in the corresponding place in `children_`.\n",
       "    Only computed if `distance_threshold` is used or `compute_distances`\n",
       "    is set to `True`.\n",
       "\n",
       "See Also\n",
       "--------\n",
       "FeatureAgglomeration : Agglomerative clustering but for features instead of\n",
       "    samples.\n",
       "ward_tree : Hierarchical clustering with ward linkage.\n",
       "\n",
       "Examples\n",
       "--------\n",
       ">>> from sklearn.cluster import AgglomerativeClustering\n",
       ">>> import numpy as np\n",
       ">>> X = np.array([[1, 2], [1, 4], [1, 0],\n",
       "...               [4, 2], [4, 4], [4, 0]])\n",
       ">>> clustering = AgglomerativeClustering().fit(X)\n",
       ">>> clustering\n",
       "AgglomerativeClustering()\n",
       ">>> clustering.labels_\n",
       "array([1, 1, 1, 0, 0, 0])\n"
      ]
     },
     "metadata": {},
     "output_type": "display_data"
    }
   ],
   "source": [
    "?ac"
   ]
  },
  {
   "cell_type": "markdown",
   "id": "e92f2662-16fb-422d-824b-2d91b13706f7",
   "metadata": {},
   "source": [
    "# Özet\n",
    "\n",
    "| **Model** | **Artıları** | **Eksileri** |\n",
    "| --- | --- | --- |\n",
    "| KMeans | Anlaşılması basittir, mesafe metrikleri üzerinden çalışır, küçük ve büyük veri setlerinde başarıyla uygulanabilir, verimli ve performanslıdır | Kaç bölüt/küme olacağına karar verilmesi gerekir |\n",
    "| Hiyerarşik Kümeleme / Bölütleme | Farklı alternatiflerdeki küme/bölüt sayıları için hazır şekilde bekler, modelin kendisi en verimli küme/bölüt sayısına karar verebilir, dendrogram kullanılarak görselleştirilmesi mümkündür | Büyük veri kümeleri için uygun değildir |"
   ]
  },
  {
   "cell_type": "code",
   "execution_count": null,
   "id": "1a3d2bd0-014d-44a5-877d-5e13e8260d2a",
   "metadata": {},
   "outputs": [],
   "source": []
  }
 ],
 "metadata": {
  "kernelspec": {
   "display_name": "Python 3 (ipykernel)",
   "language": "python",
   "name": "python3"
  },
  "language_info": {
   "codemirror_mode": {
    "name": "ipython",
    "version": 3
   },
   "file_extension": ".py",
   "mimetype": "text/x-python",
   "name": "python",
   "nbconvert_exporter": "python",
   "pygments_lexer": "ipython3",
   "version": "3.10.2"
  }
 },
 "nbformat": 4,
 "nbformat_minor": 5
}
