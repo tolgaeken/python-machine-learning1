{
 "cells": [
  {
   "cell_type": "markdown",
   "id": "18533e3b-c775-474a-b761-5a351c3af667",
   "metadata": {},
   "source": [
    "# Birliktelik Kural Çıkarımı (Association Rule Mining)\n",
    "\n",
    "* **Bunu alanlari bunu da aldı**\n",
    "* **Bunu izleyenler, bunu da izledi**\n",
    "* **Bunu ...'lar, bunu da ...**\n",
    "\n",
    "## Örnek\n",
    "\n",
    "* **Veri Tabanı**\n",
    "| **Transaction** | **İçerik** |\n",
    "| --- | --- |\n",
    "| T1 | a,b,c |\n",
    "| T2 | a,c |\n",
    "| T3 | a,e,c |\n",
    "| T4 | f,a |\n",
    "| T5 | f,e |\n",
    "\n",
    "* **Kurallar**\n",
    "| **X=>Y** | **S** | **A** |\n",
    "| --- | --- | --- |\n",
    "| a->c | %60 | %75 |\n",
    "| c->a | %60 | %100 |\n",
    "| e->a | %20 | %50 |\n",
    "| c->b | %20 | %33.3 |\n",
    "| b->c | %20 | %100 |\n",
    "| b->f | %0 | %0 |"
   ]
  },
  {
   "cell_type": "code",
   "execution_count": 8,
   "id": "5c1f85b1-ef98-4cf6-88ce-43c926c660c5",
   "metadata": {},
   "outputs": [],
   "source": [
    "import numpy as np\n",
    "import pandas as pd\n",
    "import matplotlib.pyplot as plt\n",
    "from Ml8apyori import apriori\n",
    "\n",
    "from warnings import filterwarnings\n",
    "filterwarnings(\"ignore\")"
   ]
  },
  {
   "cell_type": "markdown",
   "id": "fa4703c6-53bf-49f4-a843-6a88a4aaee19",
   "metadata": {},
   "source": [
    "# APriori Algoritması\n",
    "\n",
    "**Algoritma Linki**\n",
    "\n",
    "https://github.com/ymoch/apyori/blob/master/apyori.py"
   ]
  },
  {
   "cell_type": "code",
   "execution_count": 24,
   "id": "422fc411-c3b1-4771-bdea-29d17a9dfcf6",
   "metadata": {},
   "outputs": [
    {
     "name": "stdout",
     "output_type": "stream",
     "text": [
      "[RelationRecord(items=frozenset({'ground beef'\n",
      "'herb & pepper'})\n",
      "support=0.015997866951073192\n",
      "ordered_statistics=[OrderedStatistic(items_base=frozenset({'herb & pepper'})\n",
      "items_add=frozenset({'ground beef'})\n",
      "confidence=0.3234501347708895\n",
      "lift=3.2919938411349285)])\n",
      "RelationRecord(items=frozenset({'ground beef'\n",
      "'nan'\n",
      "'herb & pepper'})\n",
      "support=0.015997866951073192\n",
      "ordered_statistics=[OrderedStatistic(items_base=frozenset({'nan'\n",
      "'herb & pepper'})\n",
      "items_add=frozenset({'ground beef'})\n",
      "confidence=0.3234501347708895\n",
      "lift=3.2919938411349285)])]\n"
     ]
    }
   ],
   "source": [
    "veriler = pd.read_csv(\"../Docs/sepet.csv\", header = None)\n",
    "\n",
    "t = []\n",
    "\n",
    "for i in range(0,7501):\n",
    "    t.append([str(veriler.values[i,j]) for j in range (0,20)])\n",
    "    \n",
    "kurallar = apriori(t,min_support=0.01, min_confidence=0.2, min_lift = 3, min_length=2)\n",
    "for i in str(list(kurallar)).split(\", \"):\n",
    "    print(i)"
   ]
  }
 ],
 "metadata": {
  "kernelspec": {
   "display_name": "Python 3 (ipykernel)",
   "language": "python",
   "name": "python3"
  },
  "language_info": {
   "codemirror_mode": {
    "name": "ipython",
    "version": 3
   },
   "file_extension": ".py",
   "mimetype": "text/x-python",
   "name": "python",
   "nbconvert_exporter": "python",
   "pygments_lexer": "ipython3",
   "version": "3.10.2"
  }
 },
 "nbformat": 4,
 "nbformat_minor": 5
}
