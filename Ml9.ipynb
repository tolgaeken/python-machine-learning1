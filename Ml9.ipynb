{
 "cells": [
  {
   "cell_type": "markdown",
   "id": "e2a67a47-d439-4776-8a9d-a2fe06c1077f",
   "metadata": {},
   "source": [
    "# Pekiştirmeli/Takviyeli Öğrenme (Reinforced Learning)\n",
    "\n",
    "**Makinenin Kendi Kendine Öğrenmesidir**\n",
    "\n",
    "**Kullanımı**\n",
    "* Robotlar\n",
    "* Oyunlar (Alpha Go)"
   ]
  },
  {
   "cell_type": "code",
   "execution_count": 1,
   "id": "f5e22eca-1289-428b-aedb-bff1f2aee2a1",
   "metadata": {},
   "outputs": [],
   "source": [
    "import numpy as np\n",
    "import pandas as pd\n",
    "import matplotlib.pyplot as plt\n",
    "import random\n",
    "import math\n",
    "\n",
    "from warnings import filterwarnings\n",
    "filterwarnings(\"ignore\")"
   ]
  },
  {
   "cell_type": "code",
   "execution_count": 2,
   "id": "a726cbe0-ed62-4f77-a8b9-9a41de46f4da",
   "metadata": {},
   "outputs": [
    {
     "data": {
      "text/html": [
       "<div>\n",
       "<style scoped>\n",
       "    .dataframe tbody tr th:only-of-type {\n",
       "        vertical-align: middle;\n",
       "    }\n",
       "\n",
       "    .dataframe tbody tr th {\n",
       "        vertical-align: top;\n",
       "    }\n",
       "\n",
       "    .dataframe thead th {\n",
       "        text-align: right;\n",
       "    }\n",
       "</style>\n",
       "<table border=\"1\" class=\"dataframe\">\n",
       "  <thead>\n",
       "    <tr style=\"text-align: right;\">\n",
       "      <th></th>\n",
       "      <th>Ad 1</th>\n",
       "      <th>Ad 2</th>\n",
       "      <th>Ad 3</th>\n",
       "      <th>Ad 4</th>\n",
       "      <th>Ad 5</th>\n",
       "      <th>Ad 6</th>\n",
       "      <th>Ad 7</th>\n",
       "      <th>Ad 8</th>\n",
       "      <th>Ad 9</th>\n",
       "      <th>Ad 10</th>\n",
       "    </tr>\n",
       "  </thead>\n",
       "  <tbody>\n",
       "    <tr>\n",
       "      <th>0</th>\n",
       "      <td>1</td>\n",
       "      <td>0</td>\n",
       "      <td>0</td>\n",
       "      <td>0</td>\n",
       "      <td>1</td>\n",
       "      <td>0</td>\n",
       "      <td>0</td>\n",
       "      <td>0</td>\n",
       "      <td>1</td>\n",
       "      <td>0</td>\n",
       "    </tr>\n",
       "    <tr>\n",
       "      <th>1</th>\n",
       "      <td>0</td>\n",
       "      <td>0</td>\n",
       "      <td>0</td>\n",
       "      <td>0</td>\n",
       "      <td>0</td>\n",
       "      <td>0</td>\n",
       "      <td>0</td>\n",
       "      <td>0</td>\n",
       "      <td>1</td>\n",
       "      <td>0</td>\n",
       "    </tr>\n",
       "    <tr>\n",
       "      <th>2</th>\n",
       "      <td>0</td>\n",
       "      <td>0</td>\n",
       "      <td>0</td>\n",
       "      <td>0</td>\n",
       "      <td>0</td>\n",
       "      <td>0</td>\n",
       "      <td>0</td>\n",
       "      <td>0</td>\n",
       "      <td>0</td>\n",
       "      <td>0</td>\n",
       "    </tr>\n",
       "    <tr>\n",
       "      <th>3</th>\n",
       "      <td>0</td>\n",
       "      <td>1</td>\n",
       "      <td>0</td>\n",
       "      <td>0</td>\n",
       "      <td>0</td>\n",
       "      <td>0</td>\n",
       "      <td>0</td>\n",
       "      <td>1</td>\n",
       "      <td>0</td>\n",
       "      <td>0</td>\n",
       "    </tr>\n",
       "    <tr>\n",
       "      <th>4</th>\n",
       "      <td>0</td>\n",
       "      <td>0</td>\n",
       "      <td>0</td>\n",
       "      <td>0</td>\n",
       "      <td>0</td>\n",
       "      <td>0</td>\n",
       "      <td>0</td>\n",
       "      <td>0</td>\n",
       "      <td>0</td>\n",
       "      <td>0</td>\n",
       "    </tr>\n",
       "    <tr>\n",
       "      <th>...</th>\n",
       "      <td>...</td>\n",
       "      <td>...</td>\n",
       "      <td>...</td>\n",
       "      <td>...</td>\n",
       "      <td>...</td>\n",
       "      <td>...</td>\n",
       "      <td>...</td>\n",
       "      <td>...</td>\n",
       "      <td>...</td>\n",
       "      <td>...</td>\n",
       "    </tr>\n",
       "    <tr>\n",
       "      <th>9995</th>\n",
       "      <td>0</td>\n",
       "      <td>0</td>\n",
       "      <td>1</td>\n",
       "      <td>0</td>\n",
       "      <td>0</td>\n",
       "      <td>0</td>\n",
       "      <td>0</td>\n",
       "      <td>1</td>\n",
       "      <td>0</td>\n",
       "      <td>0</td>\n",
       "    </tr>\n",
       "    <tr>\n",
       "      <th>9996</th>\n",
       "      <td>0</td>\n",
       "      <td>0</td>\n",
       "      <td>0</td>\n",
       "      <td>0</td>\n",
       "      <td>0</td>\n",
       "      <td>0</td>\n",
       "      <td>0</td>\n",
       "      <td>0</td>\n",
       "      <td>0</td>\n",
       "      <td>0</td>\n",
       "    </tr>\n",
       "    <tr>\n",
       "      <th>9997</th>\n",
       "      <td>0</td>\n",
       "      <td>0</td>\n",
       "      <td>0</td>\n",
       "      <td>0</td>\n",
       "      <td>0</td>\n",
       "      <td>0</td>\n",
       "      <td>0</td>\n",
       "      <td>0</td>\n",
       "      <td>0</td>\n",
       "      <td>0</td>\n",
       "    </tr>\n",
       "    <tr>\n",
       "      <th>9998</th>\n",
       "      <td>1</td>\n",
       "      <td>0</td>\n",
       "      <td>0</td>\n",
       "      <td>0</td>\n",
       "      <td>0</td>\n",
       "      <td>0</td>\n",
       "      <td>0</td>\n",
       "      <td>1</td>\n",
       "      <td>0</td>\n",
       "      <td>0</td>\n",
       "    </tr>\n",
       "    <tr>\n",
       "      <th>9999</th>\n",
       "      <td>0</td>\n",
       "      <td>1</td>\n",
       "      <td>0</td>\n",
       "      <td>0</td>\n",
       "      <td>0</td>\n",
       "      <td>0</td>\n",
       "      <td>0</td>\n",
       "      <td>0</td>\n",
       "      <td>0</td>\n",
       "      <td>0</td>\n",
       "    </tr>\n",
       "  </tbody>\n",
       "</table>\n",
       "<p>10000 rows × 10 columns</p>\n",
       "</div>"
      ],
      "text/plain": [
       "      Ad 1  Ad 2  Ad 3  Ad 4  Ad 5  Ad 6  Ad 7  Ad 8  Ad 9  Ad 10\n",
       "0        1     0     0     0     1     0     0     0     1      0\n",
       "1        0     0     0     0     0     0     0     0     1      0\n",
       "2        0     0     0     0     0     0     0     0     0      0\n",
       "3        0     1     0     0     0     0     0     1     0      0\n",
       "4        0     0     0     0     0     0     0     0     0      0\n",
       "...    ...   ...   ...   ...   ...   ...   ...   ...   ...    ...\n",
       "9995     0     0     1     0     0     0     0     1     0      0\n",
       "9996     0     0     0     0     0     0     0     0     0      0\n",
       "9997     0     0     0     0     0     0     0     0     0      0\n",
       "9998     1     0     0     0     0     0     0     1     0      0\n",
       "9999     0     1     0     0     0     0     0     0     0      0\n",
       "\n",
       "[10000 rows x 10 columns]"
      ]
     },
     "execution_count": 2,
     "metadata": {},
     "output_type": "execute_result"
    }
   ],
   "source": [
    "veriler = pd.read_csv(\"../Docs/Ads_CTR_Optimisation.csv\")\n",
    "veriler"
   ]
  },
  {
   "cell_type": "code",
   "execution_count": 3,
   "id": "75fac5ef-1b72-4d8e-90d2-8c9737314198",
   "metadata": {
    "jupyter": {
     "source_hidden": true
    },
    "tags": []
   },
   "outputs": [
    {
     "name": "stdout",
     "output_type": "stream",
     "text": [
      "Ad 1  için toplam tıklanma: 1703\n",
      "Ad 2  için toplam tıklanma: 1295\n",
      "Ad 3  için toplam tıklanma: 728\n",
      "Ad 4  için toplam tıklanma: 1196\n",
      "Ad 5  için toplam tıklanma: 2695\n",
      "Ad 6  için toplam tıklanma: 126\n",
      "Ad 7  için toplam tıklanma: 1112\n",
      "Ad 8  için toplam tıklanma: 2091\n",
      "Ad 9  için toplam tıklanma: 952\n",
      "Ad 10 için toplam tıklanma: 489\n"
     ]
    }
   ],
   "source": [
    "for i in range(0,len(veriler.columns)):\n",
    "    if i == 9:\n",
    "        toplam = np.sum(veriler[f\"Ad {i+1}\"])\n",
    "        print(f\"Ad {i+1} için toplam tıklanma: {toplam}\")\n",
    "        continue\n",
    "    toplam = np.sum(veriler[f\"Ad {i+1}\"])\n",
    "    print(f\"Ad {i+1}  için toplam tıklanma: {toplam}\")"
   ]
  },
  {
   "cell_type": "markdown",
   "id": "c81238dc-e49a-4163-93bd-75b611449522",
   "metadata": {},
   "source": [
    "# Random Distribution\n",
    "\n",
    "* 10 farklı reklamın 10000 gözlemi\n",
    "* Her gösterimdeki tıklanma oranı"
   ]
  },
  {
   "cell_type": "code",
   "execution_count": 4,
   "id": "71376409-edce-46ed-8630-e5a13c7062e4",
   "metadata": {},
   "outputs": [
    {
     "data": {
      "image/png": "[encoded data removed]",
      "text/plain": [
       "<Figure size 432x288 with 1 Axes>"
      ]
     },
     "metadata": {
      "needs_background": "light"
     },
     "output_type": "display_data"
    }
   ],
   "source": [
    "N = 10000\n",
    "d = 10 \n",
    "toplam = 0\n",
    "secilenler = []\n",
    "for n in range(0,N):\n",
    "    ad = random.randrange(d)\n",
    "    secilenler.append(ad)\n",
    "    odul = veriler.values[n,ad] # Verilerdeki n. satır = 1 ise ödül 1\n",
    "    toplam = toplam + odul\n",
    "    \n",
    "    \n",
    "plt.hist(secilenler)\n",
    "plt.show()"
   ]
  },
  {
   "cell_type": "markdown",
   "id": "8c944cd2-8bb5-497f-8b97-877597c64db3",
   "metadata": {},
   "source": [
    "# Üst Güven Sınırı (Upper Confidence Bound - UCB)\n",
    "\n",
    "**Dağılımlar en avantajlı hale nasıl gelir?**\n",
    "* Kullanıcı her seferinde bir eylem yapar\n",
    "* Bu eylem karşılığında bir skor döner (örn. web tıklanması-1 ve tıklanmaması-0)\n",
    "* Amaç tıklamaları maksimuma çıkarmak\n",
    "\n",
    "<hr>\n",
    "\n",
    "* **Adım 1:** Her turda (tur sayısı n olsun), her rakam alternatifi (i için) aşağıdaki sayılar tutulur\n",
    "    * **Ni(n):** i sayılı reklamın o ana kadar olan tıklama sayısı\n",
    "    * **Ri(n):** o ana kadar olan i reklamından gelen toplam ödül\n",
    "* **Adım 2:** Yukarıdaki bu iki sayıdan aşağıdaki değerler hesaplanır\n",
    "    * O ana kadar olan her raklamın ortalama ödülü: ${\\displaystyle {\\frac {Ri(n)}{Ni(n)}}}$\n",
    "    * Güven aralığı için aşağı ve yukarı oynama potansiyeli: ${\\displaystyle d_i(n) {\\sqrt {{\\frac {3}{2}}{\\frac {log (n)}{N_i(n)}}}}}$\n",
    "* **Adım 3:** En yüksek UCB değerine sahip olan alınır"
   ]
  },
  {
   "cell_type": "code",
   "execution_count": 36,
   "id": "77e6fb9d-3ed6-462e-afb3-3a0053aa5886",
   "metadata": {},
   "outputs": [
    {
     "name": "stdout",
     "output_type": "stream",
     "text": [
      "Toplam Ödül:\n",
      "2231\n"
     ]
    },
    {
     "data": {
      "image/png": "[encoded data removed]",
      "text/plain": [
       "<Figure size 432x288 with 1 Axes>"
      ]
     },
     "metadata": {
      "needs_background": "light"
     },
     "output_type": "display_data"
    }
   ],
   "source": [
    "N = 10000 # 10.000 tıklama\n",
    "d = 10  # Toplam 10 ilan var\n",
    "#Ri(n)\n",
    "oduller = [0] * d # İlk basta bütün ilanların ödülü 0\n",
    "#Ni(n)\n",
    "tiklamalar = [0] * d # O ana kadar yapılan tıklamalar\n",
    "toplam = 0 # Toplam ödül\n",
    "secilenler = []\n",
    "for n in range(1,N):\n",
    "    ad = 0 # Seçilen ilan\n",
    "    max_ucb = 0\n",
    "    for i in range(0,d):\n",
    "        if(tiklamalar[i] > 0):\n",
    "            ortalama = oduller[i] / tiklamalar[i]\n",
    "            delta = math.sqrt(3/2* math.log(n)/tiklamalar[i])\n",
    "            ucb = ortalama + delta\n",
    "        else:\n",
    "            ucb = N*10\n",
    "        if max_ucb < ucb: # max'tan büyük bir ucb çıktı\n",
    "            max_ucb = ucb\n",
    "            ad = i          \n",
    "    secilenler.append(ad)\n",
    "    tiklamalar[ad] = tiklamalar[ad]+ 1\n",
    "    odul = veriler.values[n,ad] # verilerdeki n. satır = 1 ise ödül 1\n",
    "    oduller[ad] = oduller[ad]+ odul\n",
    "    toplam = toplam + odul\n",
    "print('Toplam Ödül:')   \n",
    "print(toplam)\n",
    "\n",
    "plt.hist(secilenler)\n",
    "plt.show()"
   ]
  },
  {
   "cell_type": "markdown",
   "id": "338a6be4-28bd-4680-8656-ad5a1ab3624e",
   "metadata": {},
   "source": [
    "# Thompson Örneklemesi\n",
    "\n",
    "* **Adım 1:** Her aksiyon için aşağıdaki iki sayıyı hesaplama\n",
    "    * Ni1(n): O ana kadar ödül olarak 1 gelmesi sayısı\n",
    "    * Ni0(n): O ana kadar ödül olarak 0 elmesi sayısı\n",
    "* **Adım 2:** Her ilan için aşağıda veirlen Beta dağılımında bir rastgele sayı üretilir\n",
    "    * ${\\displaystyle \\theta_i(n) = \\beta (N_i^1 (n) + 1, N_i^0(n) + 1)}$\n",
    "* **Adım 3:** En yüksek beta değerine sahip olan seçilir"
   ]
  },
  {
   "cell_type": "code",
   "execution_count": 5,
   "id": "5c6534f5-ff4c-4c95-85f5-049ae62a5646",
   "metadata": {},
   "outputs": [
    {
     "name": "stdout",
     "output_type": "stream",
     "text": [
      "Toplam Ödül:\n",
      "2581\n"
     ]
    },
    {
     "data": {
      "image/png": "[encoded data removed]",
      "text/plain": [
       "<Figure size 432x288 with 1 Axes>"
      ]
     },
     "metadata": {
      "needs_background": "light"
     },
     "output_type": "display_data"
    }
   ],
   "source": [
    "N = 10000 # 10.000 tıklama\n",
    "d = 10  # Toplam 10 ilan var\n",
    "\n",
    "#Ni(n)\n",
    "toplam = 0 # Toplam ödül\n",
    "secilenler = []\n",
    "birler = [0] * d\n",
    "sifirlar = [0] * d\n",
    "for n in range(1,N):\n",
    "    ad = 0 # Seçilen ilan\n",
    "    max_th = 0\n",
    "    for i in range(0,d):\n",
    "        rasbeta = random.betavariate ( birler[i] + 1 , sifirlar[i] +1)\n",
    "        if rasbeta > max_th:\n",
    "            max_th = rasbeta\n",
    "            ad = i\n",
    "    secilenler.append(ad)\n",
    "    odul = veriler.values[n,ad] # Verilerdeki n. satır = 1 ise ödül 1\n",
    "    if odul == 1:\n",
    "        birler[ad] = birler[ad]+1\n",
    "    else :\n",
    "        sifirlar[ad] = sifirlar[ad] + 1\n",
    "    toplam = toplam + odul\n",
    "print('Toplam Ödül:')   \n",
    "print(toplam)\n",
    "\n",
    "plt.hist(secilenler)\n",
    "plt.show();"
   ]
  },
  {
   "cell_type": "code",
   "execution_count": null,
   "id": "ea676674-75b4-4633-913f-7a1f93894a42",
   "metadata": {},
   "outputs": [],
   "source": []
  }
 ],
 "metadata": {
  "kernelspec": {
   "display_name": "Python 3 (ipykernel)",
   "language": "python",
   "name": "python3"
  },
  "language_info": {
   "codemirror_mode": {
    "name": "ipython",
    "version": 3
   },
   "file_extension": ".py",
   "mimetype": "text/x-python",
   "name": "python",
   "nbconvert_exporter": "python",
   "pygments_lexer": "ipython3",
   "version": "3.10.2"
  }
 },
 "nbformat": 4,
 "nbformat_minor": 5
}
