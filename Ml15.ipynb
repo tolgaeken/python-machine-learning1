{
 "cells": [
  {
   "cell_type": "markdown",
   "id": "a75af642-3e4e-40d2-8feb-56ff18949b02",
   "metadata": {},
   "source": [
    "# Evrişimsel Sinir Ağları (Concolutional Neural Network - CNN)\n",
    "\n",
    "**Kullanım Alanları**\n",
    "* Facebook (resim etiketlemeden, kişi sormaya ve kişi onaylamaya)\n",
    "* CNN, Çek imzalarını tanıma\n",
    "* CNN farklılıkları bulmak üzerine kuruludur"
   ]
  },
  {
   "cell_type": "code",
   "execution_count": 1,
   "id": "08e8b38e-caee-4f54-808a-e6bccb52613a",
   "metadata": {},
   "outputs": [],
   "source": [
    "import numpy as np\n",
    "import pandas as pd\n",
    "from keras.models import Sequential\n",
    "from keras.layers import Convolution2D\n",
    "from keras.layers import MaxPooling2D\n",
    "from keras.layers import Flatten\n",
    "from keras.layers import Dense\n",
    "from keras.preprocessing.image import ImageDataGenerator\n",
    "from sklearn.metrics import confusion_matrix\n",
    "\n",
    "from warnings import filterwarnings\n",
    "filterwarnings(\"ignore\")"
   ]
  },
  {
   "cell_type": "code",
   "execution_count": 2,
   "id": "2b210d74-8586-47b0-b817-82c3d82ed4aa",
   "metadata": {},
   "outputs": [
    {
     "ename": "TypeError",
     "evalue": "Dense.__init__() missing 1 required positional argument: 'units'",
     "output_type": "error",
     "traceback": [
      "\u001b[1;31m---------------------------------------------------------------------------\u001b[0m",
      "\u001b[1;31mTypeError\u001b[0m                                 Traceback (most recent call last)",
      "\u001b[1;32m~\\AppData\\Local\\Temp\\ipykernel_11176\\4171987336.py\u001b[0m in \u001b[0;36m<module>\u001b[1;34m\u001b[0m\n\u001b[0;32m     16\u001b[0m \u001b[1;33m\u001b[0m\u001b[0m\n\u001b[0;32m     17\u001b[0m \u001b[1;31m# Adım 4 - YSA\u001b[0m\u001b[1;33m\u001b[0m\u001b[1;33m\u001b[0m\u001b[0m\n\u001b[1;32m---> 18\u001b[1;33m \u001b[0mclassifier\u001b[0m\u001b[1;33m.\u001b[0m\u001b[0madd\u001b[0m\u001b[1;33m(\u001b[0m\u001b[0mDense\u001b[0m\u001b[1;33m(\u001b[0m\u001b[0moutput_dim\u001b[0m \u001b[1;33m=\u001b[0m \u001b[1;36m128\u001b[0m\u001b[1;33m,\u001b[0m \u001b[0mactivation\u001b[0m \u001b[1;33m=\u001b[0m \u001b[1;34m'relu'\u001b[0m\u001b[1;33m)\u001b[0m\u001b[1;33m)\u001b[0m\u001b[1;33m\u001b[0m\u001b[1;33m\u001b[0m\u001b[0m\n\u001b[0m\u001b[0;32m     19\u001b[0m \u001b[0mclassifier\u001b[0m\u001b[1;33m.\u001b[0m\u001b[0madd\u001b[0m\u001b[1;33m(\u001b[0m\u001b[0mDense\u001b[0m\u001b[1;33m(\u001b[0m\u001b[0moutput_dim\u001b[0m \u001b[1;33m=\u001b[0m \u001b[1;36m1\u001b[0m\u001b[1;33m,\u001b[0m \u001b[0mactivation\u001b[0m \u001b[1;33m=\u001b[0m \u001b[1;34m'sigmoid'\u001b[0m\u001b[1;33m)\u001b[0m\u001b[1;33m)\u001b[0m\u001b[1;33m\u001b[0m\u001b[1;33m\u001b[0m\u001b[0m\n",
      "\u001b[1;31mTypeError\u001b[0m: Dense.__init__() missing 1 required positional argument: 'units'"
     ]
    }
   ],
   "source": [
    "# İlkleme\n",
    "classifier = Sequential()\n",
    "\n",
    "# Adım 1 - Convolution\n",
    "classifier.add(Convolution2D(32, 3, 3, input_shape = (64, 64, 3), activation = 'relu'))\n",
    "\n",
    "# Adım 2 - Pooling\n",
    "classifier.add(MaxPooling2D(pool_size = (2, 2)))\n",
    "\n",
    "# 2. convolution katmanı\n",
    "classifier.add(Convolution2D(32, 3, 3, activation = 'relu'))\n",
    "classifier.add(MaxPooling2D(pool_size = (2, 2)))\n",
    "\n",
    "# Adım 3 - Flattening\n",
    "classifier.add(Flatten())\n",
    "\n",
    "# Adım 4 - YSA\n",
    "classifier.add(Dense(output_dim = 128, activation = 'relu'))\n",
    "classifier.add(Dense(output_dim = 1, activation = 'sigmoid'))"
   ]
  },
  {
   "cell_type": "code",
   "execution_count": null,
   "id": "c9dd17b3-a6e6-491a-bd18-afc7641cf5b3",
   "metadata": {},
   "outputs": [],
   "source": [
    "# CNN\n",
    "classifier.compile(optimizer = 'adam', loss = 'binary_crossentropy', metrics = ['accuracy'])\n",
    "\n",
    "# CNN ve resimler\n",
    "\n",
    "train_datagen = ImageDataGenerator(rescale = 1./255,\n",
    "                                   shear_range = 0.2,\n",
    "                                   zoom_range = 0.2,\n",
    "                                   horizontal_flip = True)\n",
    "\n",
    "test_datagen = ImageDataGenerator(rescale = 1./255,\n",
    "                                   shear_range = 0.2,\n",
    "                                   zoom_range = 0.2,\n",
    "                                   horizontal_flip = True)\n",
    "\n",
    "training_set = train_datagen.flow_from_directory('veriler/training_set',\n",
    "                                                 target_size = (64, 64),\n",
    "                                                 batch_size = 1,\n",
    "                                                 class_mode = 'binary')\n",
    "\n",
    "test_set = test_datagen.flow_from_directory('veriler/test_set',\n",
    "                                            target_size = (64, 64),\n",
    "                                            batch_size = 1,\n",
    "                                            class_mode = 'binary')\n",
    "\n",
    "classifier.fit_generator(training_set,\n",
    "                         samples_per_epoch = 8000,\n",
    "                         nb_epoch = 1,\n",
    "                         validation_data = test_set,\n",
    "                         nb_val_samples = 2000)\n",
    "\n",
    "test_set.reset()\n",
    "pred=classifier.predict_generator(test_set,verbose=1)\n",
    "#pred = list(map(round,pred))\n",
    "pred[pred > .5] = 1\n",
    "pred[pred <= .5] = 0\n",
    "\n",
    "print(\"Prediction Geçti\")"
   ]
  },
  {
   "cell_type": "code",
   "execution_count": null,
   "id": "b8a9989b-7698-4e84-8adf-171001bd3dd0",
   "metadata": {},
   "outputs": [],
   "source": [
    "#labels = (training_set.class_indices)\n",
    "\n",
    "test_labels = []\n",
    "\n",
    "for i in range(0,int(203)):\n",
    "    test_labels.extend(np.array(test_set[i][1]))\n",
    "    \n",
    "print(\"test_labels\")\n",
    "print(test_labels)"
   ]
  },
  {
   "cell_type": "code",
   "execution_count": null,
   "id": "ea7aa07b-bef8-4d7f-afb0-530625be9e93",
   "metadata": {},
   "outputs": [],
   "source": [
    "#labels = (training_set.class_indices)\n",
    "'''\n",
    "idx = []  \n",
    "for i in test_set:\n",
    "    ixx = (test_set.batch_index - 1) * test_set.batch_size\n",
    "    ixx = test_set.filenames[ixx : ixx + test_set.batch_size]\n",
    "    idx.append(ixx)\n",
    "    print(i)\n",
    "    print(idx)\n",
    "'''\n",
    "dosyaisimleri = test_set.filenames\n",
    "#abc = test_set.\n",
    "#print(idx)\n",
    "#test_labels = test_set.\n",
    "sonuc = pd.DataFrame()\n",
    "sonuc['dosyaisimleri']= dosyaisimleri\n",
    "sonuc['tahminler'] = pred\n",
    "sonuc['test'] = test_labels   \n",
    "\n",
    "cm = confusion_matrix(test_labels, pred)\n",
    "print (cm)"
   ]
  }
 ],
 "metadata": {
  "kernelspec": {
   "display_name": "Python 3 (ipykernel)",
   "language": "python",
   "name": "python3"
  },
  "language_info": {
   "codemirror_mode": {
    "name": "ipython",
    "version": 3
   },
   "file_extension": ".py",
   "mimetype": "text/x-python",
   "name": "python",
   "nbconvert_exporter": "python",
   "pygments_lexer": "ipython3",
   "version": "3.10.2"
  }
 },
 "nbformat": 4,
 "nbformat_minor": 5
}
